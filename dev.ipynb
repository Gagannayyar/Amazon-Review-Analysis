{
 "cells": [
  {
   "cell_type": "code",
   "execution_count": 1,
   "metadata": {},
   "outputs": [],
   "source": [
    "keywords = ['Customer care response time', 'order confirmation', 'payments transactions', 'shoe order', 'cusomer care eecutive', 'Customer care', 'cash back', 'price variation', 'referel services', 'Tata Neu', 'customer carr executive', 'payment', 'O General AC', 'Tata Cliq', 'customer calls', 'customer service provision', 'product delivery timelines', 'Tata Neu app', 'UPI', 'croma electronics', 'customer support', 'payment app', 'tata neu app', 'Tata Neu app', 'customer support', 'Tata Neu', 'Croma', 'fraud', 'pick up store', '250neu coins', 'app', 'neu coins', 'Customer service agent', 'loyalty points', 'refund', 'user interface', 'Neucoins', 'customer care services', 'Customer service desk', 'Delivery boy', 'Return process', 'app UI', 'Tata nu app', 'Tata Neu app', 'amazon', 'flipkart', 'Bigbasket order', 'NeuCoins', 'Neucoins', 'TataNeu', 'Home delivery', 'neu coins', 'Customer service', 'NEU apps', 'TCS', 'escalation matrix', 'Tata Neu', 'Bigbasket', 'Tata Neu app', 'order pending screen', 'Croma', 'TATA Neu', 'customer support team', 'Navigation page', 'Tata group', 'refund']"
   ]
  },
  {
   "cell_type": "code",
   "execution_count": 26,
   "metadata": {},
   "outputs": [],
   "source": [
    "import spacy\n",
    "from spacy import displacy\n",
    "\n",
    "NER = spacy.load(\"en_core_web_sm\")"
   ]
  },
  {
   "cell_type": "code",
   "execution_count": 35,
   "metadata": {},
   "outputs": [
    {
     "name": "stdout",
     "output_type": "stream",
     "text": [
      "51\n",
      "50\n",
      "49\n",
      "48\n"
     ]
    }
   ],
   "source": [
    "for i in keywords:\n",
    "    text1 = NER(i)\n",
    "    for word in text1.ents:\n",
    "        if word.label_ == \"ORG\" or word.label_ == \"PER\":\n",
    "            keywords.remove(i)\n",
    "            print(len(keywords))"
   ]
  },
  {
   "cell_type": "code",
   "execution_count": 3,
   "metadata": {},
   "outputs": [],
   "source": [
    "import pandas as pd\n",
    "df = pd.read_excel('Comments.xlsx')"
   ]
  },
  {
   "cell_type": "code",
   "execution_count": 6,
   "metadata": {},
   "outputs": [],
   "source": [
    "import re\n",
    "def clean_text(text) -> str:\n",
    "        \"\"\"\n",
    "        Purpose: Remove punctuations etc. using regex\n",
    "        Params:\n",
    "            text: A sentence/collection of strings\n",
    "        \"\"\"\n",
    "        text=re.sub(r\"\\?\", \".\", str(text))\n",
    "        text=re.sub(r\"\\!\", \".\", text)\n",
    "        text=re.sub(r'([.])\\1+', r'\\1', text)\n",
    "        rexp=r\"\\.(?=[A-Za-z]{1,15})\"\n",
    "        text=re.sub(rexp, \". \", text)\n",
    "        return text\n",
    "df = pd.read_excel('Comments.xlsx')\n",
    "df['clean'] = None\n",
    "#labels = [\"Information\", \"Complain\", \"Appreciation\"]\n",
    "#template = \"The sentiment of this review is {}\"\n",
    "\n",
    "for i in range(len(df['Comments'])):\n",
    "    df['clean'][i] = clean_text(df['Comments'][i])"
   ]
  },
  {
   "cell_type": "code",
   "execution_count": 41,
   "metadata": {},
   "outputs": [
    {
     "name": "stderr",
     "output_type": "stream",
     "text": [
      "/tmp/ipykernel_6476/1231461032.py:3: UserWarning: Pandas doesn't allow columns to be created via a new attribute name - see https://pandas.pydata.org/pandas-docs/stable/indexing.html#attribute-access\n",
      "  withKeywordsDF.keywords = keywords\n"
     ]
    }
   ],
   "source": [
    "withKeywordsDF = pd.DataFrame()\n",
    "\n",
    "for items in keywords:\n",
    "    withKeywordsDF['keyword'][]\n",
    "        \n",
    "    "
   ]
  },
  {
   "cell_type": "code",
   "execution_count": 45,
   "metadata": {},
   "outputs": [
    {
     "data": {
      "text/plain": [
       "(0, 0)"
      ]
     },
     "execution_count": 45,
     "metadata": {},
     "output_type": "execute_result"
    }
   ],
   "source": [
    "withKeywordsDF.shape"
   ]
  },
  {
   "cell_type": "code",
   "execution_count": 46,
   "metadata": {},
   "outputs": [
    {
     "data": {
      "text/plain": [
       "['Customer care response time',\n",
       " 'order confirmation',\n",
       " 'payments transactions',\n",
       " 'shoe order',\n",
       " 'Customer care',\n",
       " 'cash back',\n",
       " 'price variation',\n",
       " 'referel services',\n",
       " 'Tata Neu',\n",
       " 'payment',\n",
       " 'O General AC',\n",
       " 'customer calls',\n",
       " 'customer service provision',\n",
       " 'product delivery timelines',\n",
       " 'croma electronics',\n",
       " 'customer support',\n",
       " 'payment app',\n",
       " 'tata neu app',\n",
       " 'customer support',\n",
       " 'Tata Neu',\n",
       " 'fraud',\n",
       " 'pick up store',\n",
       " '250neu coins',\n",
       " 'app',\n",
       " 'neu coins',\n",
       " 'Customer service agent',\n",
       " 'loyalty points',\n",
       " 'refund',\n",
       " 'user interface',\n",
       " 'Neucoins',\n",
       " 'Customer service desk',\n",
       " 'Delivery boy',\n",
       " 'Return process',\n",
       " 'amazon',\n",
       " 'flipkart',\n",
       " 'Bigbasket order',\n",
       " 'NeuCoins',\n",
       " 'Neucoins',\n",
       " 'Home delivery',\n",
       " 'neu coins',\n",
       " 'Customer service',\n",
       " 'escalation matrix',\n",
       " 'Tata Neu',\n",
       " 'Bigbasket',\n",
       " 'order pending screen',\n",
       " 'customer support team',\n",
       " 'Navigation page',\n",
       " 'refund']"
      ]
     },
     "execution_count": 46,
     "metadata": {},
     "output_type": "execute_result"
    }
   ],
   "source": [
    "keywords"
   ]
  },
  {
   "cell_type": "code",
   "execution_count": null,
   "metadata": {},
   "outputs": [],
   "source": []
  }
 ],
 "metadata": {
  "kernelspec": {
   "display_name": "Python 3",
   "language": "python",
   "name": "python3"
  },
  "language_info": {
   "codemirror_mode": {
    "name": "ipython",
    "version": 3
   },
   "file_extension": ".py",
   "mimetype": "text/x-python",
   "name": "python",
   "nbconvert_exporter": "python",
   "pygments_lexer": "ipython3",
   "version": "3.8.13"
  },
  "orig_nbformat": 4,
  "vscode": {
   "interpreter": {
    "hash": "9ac03a0a6051494cc606d484d27d20fce22fb7b4d169f583271e11d5ba46a56e"
   }
  }
 },
 "nbformat": 4,
 "nbformat_minor": 2
}
