{
 "cells": [
  {
   "cell_type": "code",
   "execution_count": 35,
   "metadata": {},
   "outputs": [],
   "source": [
    "import pandas as pd\n",
    "\n",
    "df = pd.read_excel('Comments.xlsx')\n",
    "\n",
    "import spacy\n",
    "from spacy import displacy\n",
    "\n",
    "NER = spacy.load(\"en_core_web_sm\")\n",
    "import re"
   ]
  },
  {
   "cell_type": "code",
   "execution_count": 36,
   "metadata": {},
   "outputs": [],
   "source": [
    "def clean_text(text) -> str:\n",
    "        \"\"\"\n",
    "        Purpose: Remove punctuations etc. using regex\n",
    "        Params:\n",
    "            text: A sentence/collection of strings\n",
    "        \"\"\"\n",
    "        text=re.sub(r\"\\?\", \".\", str(text))\n",
    "        text=re.sub(r\"\\!\", \".\", text)\n",
    "        text=re.sub(r'([.])\\1+', r'\\1', text)\n",
    "        rexp=r\"\\.(?=[A-Za-z]{1,15})\"\n",
    "        text=re.sub(rexp, \". \", text)\n",
    "        return text\n",
    "\n",
    "\n",
    "df['clean'] = None\n",
    "\n",
    "\n",
    "for i in range(len(df['Comments'])):\n",
    "    df['clean'][i] = clean_text(df['Comments'][i])"
   ]
  },
  {
   "cell_type": "code",
   "execution_count": 7,
   "metadata": {},
   "outputs": [
    {
     "name": "stderr",
     "output_type": "stream",
     "text": [
      "No model was supplied, defaulted to distilbert-base-uncased-finetuned-sst-2-english and revision af0f99b (https://huggingface.co/distilbert-base-uncased-finetuned-sst-2-english).\n",
      "Using a pipeline without specifying a model name and revision in production is not recommended.\n"
     ]
    },
    {
     "data": {
      "text/html": [
       "<div>\n",
       "<style scoped>\n",
       "    .dataframe tbody tr th:only-of-type {\n",
       "        vertical-align: middle;\n",
       "    }\n",
       "\n",
       "    .dataframe tbody tr th {\n",
       "        vertical-align: top;\n",
       "    }\n",
       "\n",
       "    .dataframe thead th {\n",
       "        text-align: right;\n",
       "    }\n",
       "</style>\n",
       "<table border=\"1\" class=\"dataframe\">\n",
       "  <thead>\n",
       "    <tr style=\"text-align: right;\">\n",
       "      <th></th>\n",
       "      <th>keyword</th>\n",
       "      <th>comments</th>\n",
       "      <th>polarity</th>\n",
       "    </tr>\n",
       "  </thead>\n",
       "  <tbody>\n",
       "    <tr>\n",
       "      <th>0</th>\n",
       "      <td>service</td>\n",
       "      <td>Literally time waste to choose your services</td>\n",
       "      <td>-0.20</td>\n",
       "    </tr>\n",
       "    <tr>\n",
       "      <th>0</th>\n",
       "      <td>service</td>\n",
       "      <td>Worst customer service ever</td>\n",
       "      <td>-1.00</td>\n",
       "    </tr>\n",
       "    <tr>\n",
       "      <th>0</th>\n",
       "      <td>service</td>\n",
       "      <td>Thereâ€™s no point in connecting with your cus...</td>\n",
       "      <td>0.00</td>\n",
       "    </tr>\n",
       "    <tr>\n",
       "      <th>0</th>\n",
       "      <td>service</td>\n",
       "      <td>Its been 20 days and i havent been provided wi...</td>\n",
       "      <td>-0.10</td>\n",
       "    </tr>\n",
       "    <tr>\n",
       "      <th>0</th>\n",
       "      <td>service</td>\n",
       "      <td>You have improve your service. When I want sca...</td>\n",
       "      <td>0.24</td>\n",
       "    </tr>\n",
       "  </tbody>\n",
       "</table>\n",
       "</div>"
      ],
      "text/plain": [
       "   keyword                                           comments  polarity\n",
       "0  service      Literally time waste to choose your services      -0.20\n",
       "0  service                        Worst customer service ever     -1.00\n",
       "0  service  Thereâ€™s no point in connecting with your cus...      0.00\n",
       "0  service  Its been 20 days and i havent been provided wi...     -0.10\n",
       "0  service  You have improve your service. When I want sca...      0.24"
      ]
     },
     "execution_count": 7,
     "metadata": {},
     "output_type": "execute_result"
    }
   ],
   "source": [
    "keywords = [\"service\",\n",
    "\"refund\",\n",
    "\"interface\",\n",
    "\"experience\",\n",
    "\"support\",\n",
    "\"handling\",\n",
    "\"response\",\n",
    "\"interaction\",\n",
    "\"purchase\",\n",
    "\"customer care\",\n",
    "\"app\",\n",
    "\"call\",\n",
    "\"support\",\n",
    "\"update\",\n",
    "\"resolve\",\n",
    "\"communication\",\n",
    "\"payment\",\n",
    "\"behaviour\"\n",
    "]\n",
    "import pandas as pd\n",
    "\n",
    "df = pd.read_excel('Comments.xlsx')\n",
    "\n",
    "import spacy\n",
    "from spacy import displacy\n",
    "\n",
    "import re\n",
    "import spacy\n",
    "from spacytextblob.spacytextblob import SpacyTextBlob\n",
    "from transformers import pipeline\n",
    "sentiment_pipeline = pipeline(\"sentiment-analysis\")\n",
    "classifier = pipeline(\"zero-shot-classification\",\n",
    "                      model=\"facebook/bart-large-mnli\")\n",
    "\n",
    "labels = ['information','appreciation','complain']\n",
    "def clean_text(text) -> str:\n",
    "        \"\"\"\n",
    "        Purpose: Remove punctuations etc. using regex\n",
    "        Params:\n",
    "            text: A sentence/collection of strings\n",
    "        \"\"\"\n",
    "        text=re.sub(r\"\\?\", \".\", str(text))\n",
    "        text=re.sub(r\"\\!\", \".\", text)\n",
    "        text=re.sub(r'([.])\\1+', r'\\1', text)\n",
    "        rexp=r\"\\.(?=[A-Za-z]{1,15})\"\n",
    "        text=re.sub(rexp, \". \", text)\n",
    "        return text\n",
    "\n",
    "\n",
    "df['clean'] = None\n",
    "\n",
    "for i in range(len(df['Comments'])):\n",
    "    df['clean'][i] = clean_text(df[\"Comments\"][i])\n",
    "\n",
    "def get_comments_keyword_df(keywords_list,df,column):\n",
    "    dictionary = {\n",
    "        \"keyword\":[],\n",
    "        \"comments\": []\n",
    "    }\n",
    "    for word in keywords:\n",
    "        comments = []\n",
    "        for comment in df[column]:\n",
    "            if word in str(comment):\n",
    "                comments.append(comment)\n",
    "                 \n",
    "        dictionary[\"keyword\"].append(word)\n",
    "        dictionary[\"comments\"].append(comments)\n",
    "    dataframe = pd.DataFrame(data=dictionary)\n",
    "    dataframe = dataframe.explode('comments')\n",
    "\n",
    "    return dataframe\n",
    "\n",
    "\n",
    "dataframe = get_comments_keyword_df(keywords,df,column='clean')\n",
    "\n",
    "def calculate_sentiments(df,column_name) -> pd.DataFrame:\n",
    "        df['polarity'] = df[column_name].apply(lambda x: \n",
    "                                           TextBlob(x).sentiment[0])\n",
    "        return df\n",
    "\n",
    "\n",
    "dataframe = calculate_sentiments(dataframe,column_name='comments')\n",
    "dataframe.head()"
   ]
  },
  {
   "cell_type": "code",
   "execution_count": 8,
   "metadata": {},
   "outputs": [],
   "source": [
    "dataframe.to_csv(r'with_comments.csv')"
   ]
  },
  {
   "cell_type": "code",
   "execution_count": 6,
   "metadata": {},
   "outputs": [
    {
     "data": {
      "text/html": [
       "<div>\n",
       "<style scoped>\n",
       "    .dataframe tbody tr th:only-of-type {\n",
       "        vertical-align: middle;\n",
       "    }\n",
       "\n",
       "    .dataframe tbody tr th {\n",
       "        vertical-align: top;\n",
       "    }\n",
       "\n",
       "    .dataframe thead th {\n",
       "        text-align: right;\n",
       "    }\n",
       "</style>\n",
       "<table border=\"1\" class=\"dataframe\">\n",
       "  <thead>\n",
       "    <tr style=\"text-align: right;\">\n",
       "      <th></th>\n",
       "      <th>keyword</th>\n",
       "      <th>comments</th>\n",
       "    </tr>\n",
       "  </thead>\n",
       "  <tbody>\n",
       "    <tr>\n",
       "      <th>0</th>\n",
       "      <td>service</td>\n",
       "      <td>Literally time waste to choose your services</td>\n",
       "    </tr>\n",
       "    <tr>\n",
       "      <th>0</th>\n",
       "      <td>service</td>\n",
       "      <td>Worst customer service ever</td>\n",
       "    </tr>\n",
       "    <tr>\n",
       "      <th>0</th>\n",
       "      <td>service</td>\n",
       "      <td>Thereâ€™s no point in connecting with your cus...</td>\n",
       "    </tr>\n",
       "    <tr>\n",
       "      <th>0</th>\n",
       "      <td>service</td>\n",
       "      <td>Its been 20 days and i havent been provided wi...</td>\n",
       "    </tr>\n",
       "    <tr>\n",
       "      <th>0</th>\n",
       "      <td>service</td>\n",
       "      <td>You have improve your service. When I want sca...</td>\n",
       "    </tr>\n",
       "    <tr>\n",
       "      <th>...</th>\n",
       "      <td>...</td>\n",
       "      <td>...</td>\n",
       "    </tr>\n",
       "    <tr>\n",
       "      <th>17</th>\n",
       "      <td>behaviour</td>\n",
       "      <td>Nice behaviour</td>\n",
       "    </tr>\n",
       "    <tr>\n",
       "      <th>17</th>\n",
       "      <td>behaviour</td>\n",
       "      <td>Very bad experience. I ordered for 8 size shoe...</td>\n",
       "    </tr>\n",
       "    <tr>\n",
       "      <th>17</th>\n",
       "      <td>behaviour</td>\n",
       "      <td>Your Service is worst as when we order you tak...</td>\n",
       "    </tr>\n",
       "    <tr>\n",
       "      <th>17</th>\n",
       "      <td>behaviour</td>\n",
       "      <td>Didnot send me a simple copy of invoice of my ...</td>\n",
       "    </tr>\n",
       "    <tr>\n",
       "      <th>17</th>\n",
       "      <td>behaviour</td>\n",
       "      <td>Rude behaviour. Not able to resolve the issue....</td>\n",
       "    </tr>\n",
       "  </tbody>\n",
       "</table>\n",
       "<p>6950 rows × 2 columns</p>\n",
       "</div>"
      ],
      "text/plain": [
       "      keyword                                           comments\n",
       "0     service      Literally time waste to choose your services \n",
       "0     service                        Worst customer service ever\n",
       "0     service  Thereâ€™s no point in connecting with your cus...\n",
       "0     service  Its been 20 days and i havent been provided wi...\n",
       "0     service  You have improve your service. When I want sca...\n",
       "..        ...                                                ...\n",
       "17  behaviour                                     Nice behaviour\n",
       "17  behaviour  Very bad experience. I ordered for 8 size shoe...\n",
       "17  behaviour  Your Service is worst as when we order you tak...\n",
       "17  behaviour  Didnot send me a simple copy of invoice of my ...\n",
       "17  behaviour  Rude behaviour. Not able to resolve the issue....\n",
       "\n",
       "[6950 rows x 2 columns]"
      ]
     },
     "execution_count": 6,
     "metadata": {},
     "output_type": "execute_result"
    }
   ],
   "source": [
    "dataframe"
   ]
  },
  {
   "cell_type": "code",
   "execution_count": 49,
   "metadata": {},
   "outputs": [],
   "source": [
    "df.to_excel('test4.xlsx')"
   ]
  },
  {
   "cell_type": "code",
   "execution_count": 15,
   "metadata": {},
   "outputs": [
    {
     "data": {
      "text/plain": [
       "[6065, 741, 7690, 879]"
      ]
     },
     "execution_count": 15,
     "metadata": {},
     "output_type": "execute_result"
    }
   ],
   "source": [
    "length = [len(object),len(verb), len(sent), len(adj)]\n",
    "length"
   ]
  },
  {
   "cell_type": "code",
   "execution_count": 17,
   "metadata": {},
   "outputs": [
    {
     "data": {
      "text/plain": [
       "7690"
      ]
     },
     "execution_count": 17,
     "metadata": {},
     "output_type": "execute_result"
    }
   ],
   "source": []
  },
  {
   "cell_type": "code",
   "execution_count": 11,
   "metadata": {},
   "outputs": [
    {
     "data": {
      "text/plain": [
       "14"
      ]
     },
     "execution_count": 11,
     "metadata": {},
     "output_type": "execute_result"
    }
   ],
   "source": [
    "len(x)"
   ]
  },
  {
   "cell_type": "code",
   "execution_count": null,
   "metadata": {},
   "outputs": [],
   "source": []
  },
  {
   "cell_type": "code",
   "execution_count": null,
   "metadata": {},
   "outputs": [
    {
     "data": {
      "text/plain": [
       "datetime.datetime(2022, 11, 22, 6, 58, 15, 241772)"
      ]
     },
     "execution_count": 3,
     "metadata": {},
     "output_type": "execute_result"
    }
   ],
   "source": []
  },
  {
   "cell_type": "code",
   "execution_count": 50,
   "metadata": {},
   "outputs": [],
   "source": []
  },
  {
   "cell_type": "code",
   "execution_count": null,
   "metadata": {},
   "outputs": [],
   "source": []
  },
  {
   "cell_type": "code",
   "execution_count": 51,
   "metadata": {},
   "outputs": [
    {
     "name": "stdout",
     "output_type": "stream",
     "text": [
      "text     POS    TAG    Dep    POS explained        tag explained \n",
      "i        PRON   PRP    nsubj  pronoun              pronoun, personal\n",
      "have     AUX    VBP    aux    auxiliary            verb, non-3rd person singular present\n",
      "been     AUX    VBN    aux    auxiliary            verb, past participle\n",
      "struggling VERB   VBG    ROOT   verb                 verb, gerund or present participle\n",
      "to       PART   TO     aux    particle             infinitival \"to\"\n",
      "get      VERB   VB     xcomp  verb                 verb, base form\n",
      "a        DET    DT     det    determiner           determiner\n",
      "response NOUN   NN     dobj   noun                 noun, singular or mass\n",
      "from     ADP    IN     prep   adposition           conjunction, subordinating or preposition\n",
      "last     ADJ    JJ     amod   adjective            adjective (English), other noun-modifier (Chinese)\n",
      "3        NUM    CD     nummod numeral              cardinal number\n",
      "months   NOUN   NNS    pobj   noun                 noun, plural\n"
     ]
    }
   ],
   "source": [
    "doc = NER(text)\n",
    "\n",
    "print(f\"{'text':{8}} {'POS':{6}} {'TAG':{6}} {'Dep':{6}} {'POS explained':{20}} {'tag explained'} \")\n",
    "for token in doc:\n",
    "    print(f'{token.text:{8}} {token.pos_:{6}} {token.tag_:{6}} {token.dep_:{6}} {spacy.explain(token.pos_):{20}} {spacy.explain(token.tag_)}')"
   ]
  },
  {
   "cell_type": "code",
   "execution_count": 2,
   "metadata": {},
   "outputs": [],
   "source": [
    "keywords = [\"service\",\n",
    "\"refund\",\n",
    "\"interface\",\n",
    "\"experience\",\n",
    "\"support\",\n",
    "\"handling\",\n",
    "\"response\",\n",
    "\"interaction\",\n",
    "\"purchase\",\n",
    "\"customer care\",\n",
    "\"app\",\n",
    "\"call\",\n",
    "\"support\",\n",
    "\"update\",\n",
    "\"resolve\",\n",
    "\"communication\",\n",
    "\"payment\",\n",
    "\"behaviour\"\n",
    "]"
   ]
  },
  {
   "cell_type": "code",
   "execution_count": null,
   "metadata": {},
   "outputs": [],
   "source": [
    "df"
   ]
  },
  {
   "cell_type": "code",
   "execution_count": null,
   "metadata": {},
   "outputs": [],
   "source": []
  }
 ],
 "metadata": {
  "kernelspec": {
   "display_name": "Python 3",
   "language": "python",
   "name": "python3"
  },
  "language_info": {
   "codemirror_mode": {
    "name": "ipython",
    "version": 3
   },
   "file_extension": ".py",
   "mimetype": "text/x-python",
   "name": "python",
   "nbconvert_exporter": "python",
   "pygments_lexer": "ipython3",
   "version": "3.8.13"
  },
  "orig_nbformat": 4,
  "vscode": {
   "interpreter": {
    "hash": "9ac03a0a6051494cc606d484d27d20fce22fb7b4d169f583271e11d5ba46a56e"
   }
  }
 },
 "nbformat": 4,
 "nbformat_minor": 2
}
