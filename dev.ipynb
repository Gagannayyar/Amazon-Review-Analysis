{
 "cells": [
  {
   "cell_type": "code",
   "execution_count": 3,
   "metadata": {},
   "outputs": [],
   "source": [
    "keywords = ['Customer care response time', 'order confirmation', 'payments transactions', 'shoe order', 'cusomer care eecutive', 'Customer care', 'cash back', 'price variation', 'referel services', 'Tata Neu', 'customer carr executive', 'payment', 'O General AC', 'Tata Cliq', 'customer calls', 'customer service provision', 'product delivery timelines', 'Tata Neu app', 'UPI', 'croma electronics', 'customer support', 'payment app', 'tata neu app', 'Tata Neu app', 'customer support', 'Tata Neu', 'Croma', 'fraud', 'pick up store', '250neu coins', 'app', 'neu coins', 'Customer service agent', 'loyalty points', 'refund', 'user interface', 'Neucoins', 'customer care services', 'Customer service desk', 'Delivery boy', 'Return process', 'app UI', 'Tata nu app', 'Tata Neu app', 'amazon', 'flipkart', 'Bigbasket order', 'NeuCoins', 'Neucoins', 'TataNeu', 'Home delivery', 'neu coins', 'Customer service', 'NEU apps', 'TCS', 'escalation matrix', 'Tata Neu', 'Bigbasket', 'Tata Neu app', 'order pending screen', 'Croma', 'TATA Neu', 'customer support team', 'Navigation page', 'Tata group', 'refund']"
   ]
  },
  {
   "cell_type": "code",
   "execution_count": 4,
   "metadata": {},
   "outputs": [],
   "source": [
    "import spacy\n",
    "from spacy import displacy\n",
    "\n",
    "NER = spacy.load(\"en_core_web_sm\")"
   ]
  },
  {
   "cell_type": "code",
   "execution_count": 20,
   "metadata": {},
   "outputs": [],
   "source": [
    "new_list = ['tcs',\n",
    " 'customer calls',\n",
    " 'neu coins',\n",
    " 'tata group',\n",
    " 'customer support team',\n",
    " 'payment',\n",
    " 'tata neu app',\n",
    " 'cash back',\n",
    " 'customer care',\n",
    " 'neucoins',\n",
    " 'fraud',\n",
    " 'customer service',\n",
    " 'customer support',\n",
    " 'croma',\n",
    " 'upi',\n",
    " 'tata neu',\n",
    " 'refund',\n",
    " 'amazon',\n",
    " 'tataneu',\n",
    " 'bigbasket',\n",
    " 'app']"
   ]
  },
  {
   "cell_type": "code",
   "execution_count": 21,
   "metadata": {},
   "outputs": [],
   "source": [
    "from fuzzywuzzy import fuzz\n",
    "def remove_similar_words(words_list):\n",
    "    same_words = []\n",
    "    for i in words_list:\n",
    "        for j in words_list:\n",
    "            ratio  = fuzz.ratio(i,j)\n",
    "            if ratio < 100 and ratio > 70:\n",
    "                same_words.append(i)\n",
    "                print(i,j,ratio)\n",
    "    same_words = list(set(same_words))\n",
    "    for i in range(1,len(same_words),2):\n",
    "        same_words.pop()\n",
    "\n",
    "    return same_words"
   ]
  },
  {
   "cell_type": "code",
   "execution_count": 25,
   "metadata": {},
   "outputs": [
    {
     "name": "stdout",
     "output_type": "stream",
     "text": [
      "customer calls customer care 81\n",
      "neu coins neucoins 94\n",
      "customer support team customer support 86\n",
      "tata neu app tata neu 80\n",
      "tata neu app tataneu 74\n",
      "customer care customer calls 81\n",
      "customer care customer service 76\n",
      "neucoins neu coins 94\n",
      "customer support customer support team 86\n",
      "tata neu tata neu app 80\n",
      "tata neu tataneu 93\n",
      "tataneu tata neu app 74\n",
      "tataneu tata neu 93\n"
     ]
    }
   ],
   "source": [
    "def remove_same_words(same_words, words_list):\n",
    "    for word in same_words:\n",
    "        if word in words_list:\n",
    "            words_list.remove(word)\n",
    "\n",
    "    return words_list"
   ]
  },
  {
   "cell_type": "code",
   "execution_count": null,
   "metadata": {},
   "outputs": [],
   "source": []
  },
  {
   "cell_type": "code",
   "execution_count": 26,
   "metadata": {},
   "outputs": [],
   "source": [
    "for i in range(1,len(same_words),2):\n",
    "    same_words.pop()"
   ]
  },
  {
   "cell_type": "code",
   "execution_count": 27,
   "metadata": {},
   "outputs": [
    {
     "data": {
      "text/plain": [
       "['customer support',\n",
       " 'neucoins',\n",
       " 'customer support team',\n",
       " 'tataneu',\n",
       " 'customer care']"
      ]
     },
     "execution_count": 27,
     "metadata": {},
     "output_type": "execute_result"
    }
   ],
   "source": [
    "same_words"
   ]
  },
  {
   "cell_type": "code",
   "execution_count": 28,
   "metadata": {},
   "outputs": [],
   "source": [
    "for i in same_words:\n",
    "    if i in new_list:\n",
    "        new_list.remove(i)"
   ]
  },
  {
   "cell_type": "code",
   "execution_count": 29,
   "metadata": {},
   "outputs": [
    {
     "data": {
      "text/plain": [
       "['tcs',\n",
       " 'customer calls',\n",
       " 'neu coins',\n",
       " 'tata group',\n",
       " 'payment',\n",
       " 'tata neu app',\n",
       " 'cash back',\n",
       " 'fraud',\n",
       " 'customer service',\n",
       " 'croma',\n",
       " 'upi',\n",
       " 'tata neu',\n",
       " 'refund',\n",
       " 'amazon',\n",
       " 'bigbasket',\n",
       " 'app']"
      ]
     },
     "execution_count": 29,
     "metadata": {},
     "output_type": "execute_result"
    }
   ],
   "source": [
    "new_list"
   ]
  },
  {
   "cell_type": "code",
   "execution_count": null,
   "metadata": {},
   "outputs": [],
   "source": []
  }
 ],
 "metadata": {
  "kernelspec": {
   "display_name": "Python 3",
   "language": "python",
   "name": "python3"
  },
  "language_info": {
   "codemirror_mode": {
    "name": "ipython",
    "version": 3
   },
   "file_extension": ".py",
   "mimetype": "text/x-python",
   "name": "python",
   "nbconvert_exporter": "python",
   "pygments_lexer": "ipython3",
   "version": "3.8.13 (default, Oct  4 2022, 14:00:32) \n[GCC 9.4.0]"
  },
  "orig_nbformat": 4,
  "vscode": {
   "interpreter": {
    "hash": "9ac03a0a6051494cc606d484d27d20fce22fb7b4d169f583271e11d5ba46a56e"
   }
  }
 },
 "nbformat": 4,
 "nbformat_minor": 2
}
